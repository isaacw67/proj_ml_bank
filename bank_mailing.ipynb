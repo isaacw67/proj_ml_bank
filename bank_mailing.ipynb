{
 "cells": [
  {
   "cell_type": "markdown",
   "metadata": {},
   "source": [
    "# Profiting from classifiers\n",
    "### Mini-project\n",
    "In this project you apply your classification skills for solving a business problem.\n",
    "\n",
    "Imagine that you are working for a bank. Last year the bank sent a mass direct mailing offer to promote the Personal Equity Plan (PEP). You collected the information about customers and their responses into the dataset [bank_data.csv](https://drive.google.com/file/d/13VEWvirEi-AQwQzZwVZxDSKwym0vAvIk/view?usp=sharing). \n",
    "\n",
    "You want to make use of these data to design a new mailing campaign with a higher response rate. The ultimate goal is to spend less for the campaign, but increase the overall profit (number of respondents).\n",
    "\n",
    "The idea is to build a classification model from historical data, and use this classifier on new customers to predict who is more likely to respond. We can then selectively target only these customers, and not waste the effort on unpromising customer groups."
   ]
  },
  {
   "cell_type": "markdown",
   "metadata": {},
   "source": [
    "## Part 1. Building a model"
   ]
  },
  {
   "cell_type": "code",
   "execution_count": 1,
   "metadata": {},
   "outputs": [],
   "source": [
    "from sklearn.model_selection import cross_val_score"
   ]
  },
  {
   "cell_type": "markdown",
   "metadata": {},
   "source": [
    "### 1.1. Data exploration and preparation"
   ]
  },
  {
   "cell_type": "code",
   "execution_count": 2,
   "metadata": {},
   "outputs": [],
   "source": [
    "file_name = \"../datasets/bank-data.csv\""
   ]
  },
  {
   "cell_type": "code",
   "execution_count": 4,
   "metadata": {},
   "outputs": [],
   "source": [
    "import pandas as pd\n",
    "import numpy as np\n",
    "import matplotlib.pyplot as plt\n",
    "%matplotlib inline\n",
    "import seaborn as sns\n",
    "from sklearn.model_selection import cross_val_score\n",
    "\n",
    "# this creates a pandas.DataFrame using the id column for indexing\n",
    "data = pd.read_csv(file_name, index_col ='id')"
   ]
  },
  {
   "cell_type": "code",
   "execution_count": 5,
   "metadata": {},
   "outputs": [
    {
     "data": {
      "text/plain": [
       "Index(['age', 'sex', 'region', 'income', 'married', 'children', 'car',\n",
       "       'save_act', 'current_act', 'mortgage', 'pep'],\n",
       "      dtype='object')"
      ]
     },
     "execution_count": 5,
     "metadata": {},
     "output_type": "execute_result"
    }
   ],
   "source": [
    "data.columns"
   ]
  },
  {
   "cell_type": "code",
   "execution_count": 6,
   "metadata": {},
   "outputs": [
    {
     "data": {
      "text/html": [
       "<div>\n",
       "<style scoped>\n",
       "    .dataframe tbody tr th:only-of-type {\n",
       "        vertical-align: middle;\n",
       "    }\n",
       "\n",
       "    .dataframe tbody tr th {\n",
       "        vertical-align: top;\n",
       "    }\n",
       "\n",
       "    .dataframe thead th {\n",
       "        text-align: right;\n",
       "    }\n",
       "</style>\n",
       "<table border=\"1\" class=\"dataframe\">\n",
       "  <thead>\n",
       "    <tr style=\"text-align: right;\">\n",
       "      <th></th>\n",
       "      <th>age</th>\n",
       "      <th>sex</th>\n",
       "      <th>region</th>\n",
       "      <th>income</th>\n",
       "      <th>married</th>\n",
       "      <th>children</th>\n",
       "      <th>car</th>\n",
       "      <th>save_act</th>\n",
       "      <th>current_act</th>\n",
       "      <th>mortgage</th>\n",
       "      <th>pep</th>\n",
       "    </tr>\n",
       "    <tr>\n",
       "      <th>id</th>\n",
       "      <th></th>\n",
       "      <th></th>\n",
       "      <th></th>\n",
       "      <th></th>\n",
       "      <th></th>\n",
       "      <th></th>\n",
       "      <th></th>\n",
       "      <th></th>\n",
       "      <th></th>\n",
       "      <th></th>\n",
       "      <th></th>\n",
       "    </tr>\n",
       "  </thead>\n",
       "  <tbody>\n",
       "    <tr>\n",
       "      <th>ID12101</th>\n",
       "      <td>48</td>\n",
       "      <td>FEMALE</td>\n",
       "      <td>INNER_CITY</td>\n",
       "      <td>17546.0</td>\n",
       "      <td>NO</td>\n",
       "      <td>1</td>\n",
       "      <td>NO</td>\n",
       "      <td>NO</td>\n",
       "      <td>NO</td>\n",
       "      <td>NO</td>\n",
       "      <td>YES</td>\n",
       "    </tr>\n",
       "    <tr>\n",
       "      <th>ID12102</th>\n",
       "      <td>40</td>\n",
       "      <td>MALE</td>\n",
       "      <td>TOWN</td>\n",
       "      <td>30085.1</td>\n",
       "      <td>YES</td>\n",
       "      <td>3</td>\n",
       "      <td>YES</td>\n",
       "      <td>NO</td>\n",
       "      <td>YES</td>\n",
       "      <td>YES</td>\n",
       "      <td>NO</td>\n",
       "    </tr>\n",
       "    <tr>\n",
       "      <th>ID12103</th>\n",
       "      <td>51</td>\n",
       "      <td>FEMALE</td>\n",
       "      <td>INNER_CITY</td>\n",
       "      <td>16575.4</td>\n",
       "      <td>YES</td>\n",
       "      <td>0</td>\n",
       "      <td>YES</td>\n",
       "      <td>YES</td>\n",
       "      <td>YES</td>\n",
       "      <td>NO</td>\n",
       "      <td>NO</td>\n",
       "    </tr>\n",
       "    <tr>\n",
       "      <th>ID12104</th>\n",
       "      <td>23</td>\n",
       "      <td>FEMALE</td>\n",
       "      <td>TOWN</td>\n",
       "      <td>20375.4</td>\n",
       "      <td>YES</td>\n",
       "      <td>3</td>\n",
       "      <td>NO</td>\n",
       "      <td>NO</td>\n",
       "      <td>YES</td>\n",
       "      <td>NO</td>\n",
       "      <td>NO</td>\n",
       "    </tr>\n",
       "    <tr>\n",
       "      <th>ID12105</th>\n",
       "      <td>57</td>\n",
       "      <td>FEMALE</td>\n",
       "      <td>RURAL</td>\n",
       "      <td>50576.3</td>\n",
       "      <td>YES</td>\n",
       "      <td>0</td>\n",
       "      <td>NO</td>\n",
       "      <td>YES</td>\n",
       "      <td>NO</td>\n",
       "      <td>NO</td>\n",
       "      <td>NO</td>\n",
       "    </tr>\n",
       "  </tbody>\n",
       "</table>\n",
       "</div>"
      ],
      "text/plain": [
       "         age     sex      region   income married  children  car save_act  \\\n",
       "id                                                                          \n",
       "ID12101   48  FEMALE  INNER_CITY  17546.0      NO         1   NO       NO   \n",
       "ID12102   40    MALE        TOWN  30085.1     YES         3  YES       NO   \n",
       "ID12103   51  FEMALE  INNER_CITY  16575.4     YES         0  YES      YES   \n",
       "ID12104   23  FEMALE        TOWN  20375.4     YES         3   NO       NO   \n",
       "ID12105   57  FEMALE       RURAL  50576.3     YES         0   NO      YES   \n",
       "\n",
       "        current_act mortgage  pep  \n",
       "id                                 \n",
       "ID12101          NO       NO  YES  \n",
       "ID12102         YES      YES   NO  \n",
       "ID12103         YES       NO   NO  \n",
       "ID12104         YES       NO   NO  \n",
       "ID12105          NO       NO   NO  "
      ]
     },
     "execution_count": 6,
     "metadata": {},
     "output_type": "execute_result"
    }
   ],
   "source": [
    "data.head()"
   ]
  },
  {
   "cell_type": "markdown",
   "metadata": {},
   "source": [
    "The dataset contains the following variables/attributes for each potential customer: \n",
    "- id (String)\n",
    "- age (int)\n",
    "- sex {FEMALE,MALE}\n",
    "- region {INNER_CITY,TOWN,RURAL,SUBURBAN}\n",
    "- income (int)\n",
    "- married {YES, NO}\n",
    "- children (int)\n",
    "- car {YES, NO}\n",
    "- save_act - Saving account in our bank {Yes, No}\n",
    "- current_act - Current account in our bank {YES, NO}\n",
    "- mortgage {YES, NO}\n",
    "\n",
    "And the last attribute - pep {YES, NO} is a target attribute: whether a customer responded to our promotion mail and joined a Personal Equity Plan."
   ]
  },
  {
   "cell_type": "markdown",
   "metadata": {},
   "source": [
    "To see correlation between attributes and response, we convert all attributes to numeric: ."
   ]
  },
  {
   "cell_type": "code",
   "execution_count": 7,
   "metadata": {},
   "outputs": [],
   "source": [
    "# First, create a copy of the original data frame - to make a fully numeric dataset\n",
    "df_num = data.copy()\n",
    "\n",
    "# we need to replace 'sex', 'region', 'married', 'car', 'save_act', 'current_act', 'mortgage', 'pep'"
   ]
  },
  {
   "cell_type": "markdown",
   "metadata": {},
   "source": [
    "The boolean values can be replaced with [0,1]."
   ]
  },
  {
   "cell_type": "code",
   "execution_count": 8,
   "metadata": {},
   "outputs": [
    {
     "name": "stdout",
     "output_type": "stream",
     "text": [
      "['FEMALE' 'MALE']\n",
      "['NO' 'YES']\n",
      "['NO' 'YES']\n",
      "['NO' 'YES']\n",
      "['NO' 'YES']\n",
      "['NO' 'YES']\n",
      "['YES' 'NO']\n"
     ]
    }
   ],
   "source": [
    "print(df_num['sex'].unique())\n",
    "print(df_num['married'].unique())\n",
    "print(df_num['car'].unique())\n",
    "print(df_num['save_act'].unique())\n",
    "print(df_num['current_act'].unique())\n",
    "print(df_num['mortgage'].unique())\n",
    "print(df_num['pep'].unique())"
   ]
  },
  {
   "cell_type": "code",
   "execution_count": 9,
   "metadata": {},
   "outputs": [],
   "source": [
    "df_num['sex'].replace(['FEMALE', 'MALE'], [0,1], inplace=True)\n",
    "\n",
    "df_num['married'].replace(['NO', 'YES'], [0,1], inplace=True)\n",
    "df_num['car'].replace(['NO', 'YES'], [0,1], inplace=True)\n",
    "df_num['save_act'].replace(['NO', 'YES'], [0,1], inplace=True)\n",
    "df_num['current_act'].replace(['NO', 'YES'], [0,1], inplace=True)\n",
    "df_num['mortgage'].replace(['NO', 'YES'], [0,1], inplace=True)\n",
    "df_num['pep'].replace(['NO', 'YES'], [0,1], inplace=True)"
   ]
  },
  {
   "cell_type": "code",
   "execution_count": 10,
   "metadata": {},
   "outputs": [
    {
     "name": "stdout",
     "output_type": "stream",
     "text": [
      "['INNER_CITY' 'TOWN' 'RURAL' 'SUBURBAN']\n",
      "[1 3 0 2]\n"
     ]
    }
   ],
   "source": [
    "print(df_num['region'].unique())\n",
    "print(df_num['children'].unique())"
   ]
  },
  {
   "cell_type": "markdown",
   "metadata": {},
   "source": [
    "The 'region' attribute with cardinality 4 should be replaced using [one hot encoding](https://datagy.io/sklearn-one-hot-encode/). Please refresh your knowledge about converting categorical attributes into numerics (binary)."
   ]
  },
  {
   "cell_type": "code",
   "execution_count": 11,
   "metadata": {},
   "outputs": [],
   "source": [
    "# One-hot encoding a single column - region - using pandas\n",
    "# use pd.concat to join the new columns with your original dataframe\n",
    "df_num = pd.concat([df_num,pd.get_dummies(df_num['region'], prefix='region')],axis=1)\n",
    "\n",
    "# now drop the original 'region' column (you don't need it anymore)\n",
    "df_num.drop(['region'],axis=1, inplace=True)"
   ]
  },
  {
   "cell_type": "markdown",
   "metadata": {},
   "source": [
    "For the attribute 'children' there are only 4 distinct values - it is not a truly numeric attribute, it is rather an ordinal attribute. It also does not seem reasonable to assume that the difference between childless families and the families with 1 child is the same as the difference between 1-child and 2-child families. So we should probably treat the number of children as a categorical attribute with cardinality 4.  "
   ]
  },
  {
   "cell_type": "code",
   "execution_count": 12,
   "metadata": {},
   "outputs": [],
   "source": [
    "df_num['children'].replace([0,1,2,3], [\"zero\",\"one\", \"two\", \"three\"], inplace=True)"
   ]
  },
  {
   "cell_type": "code",
   "execution_count": 13,
   "metadata": {},
   "outputs": [],
   "source": [
    "df_num = pd.concat([df_num,pd.get_dummies(df_num['children'], prefix='children')],axis=1)\n",
    "\n",
    "# now drop the original 'country' column (you don't need it anymore)\n",
    "df_num.drop(['children'],axis=1, inplace=True)"
   ]
  },
  {
   "cell_type": "markdown",
   "metadata": {},
   "source": [
    "Reordering to place the target variable into the first column."
   ]
  },
  {
   "cell_type": "code",
   "execution_count": 14,
   "metadata": {},
   "outputs": [],
   "source": [
    "target = df_num.pop(\"pep\")\n",
    "\n",
    "df_num.insert(0, target.name, target)"
   ]
  },
  {
   "cell_type": "code",
   "execution_count": 15,
   "metadata": {},
   "outputs": [
    {
     "data": {
      "text/plain": [
       "Index(['pep', 'age', 'sex', 'income', 'married', 'car', 'save_act',\n",
       "       'current_act', 'mortgage', 'region_INNER_CITY', 'region_RURAL',\n",
       "       'region_SUBURBAN', 'region_TOWN', 'children_one', 'children_three',\n",
       "       'children_two', 'children_zero'],\n",
       "      dtype='object')"
      ]
     },
     "execution_count": 15,
     "metadata": {},
     "output_type": "execute_result"
    }
   ],
   "source": [
    "df_num.columns"
   ]
  },
  {
   "cell_type": "code",
   "execution_count": 16,
   "metadata": {},
   "outputs": [
    {
     "data": {
      "text/plain": [
       "<AxesSubplot:>"
      ]
     },
     "execution_count": 16,
     "metadata": {},
     "output_type": "execute_result"
    },
    {
     "data": {
      "image/png": "[encoded data removed]",
      "text/plain": [
       "<Figure size 720x576 with 2 Axes>"
      ]
     },
     "metadata": {
      "needs_background": "light"
     },
     "output_type": "display_data"
    }
   ],
   "source": [
    "fig, ax = plt.subplots(figsize=(10,8)) \n",
    "corr = df_num.corr()\n",
    "sns.heatmap(corr, center=0, annot=True, linewidths=.1, ax=ax)"
   ]
  },
  {
   "cell_type": "markdown",
   "metadata": {},
   "source": [
    "## 1.2. Classifiers\n",
    "We learned about the following classifiers: \n",
    "- __Logistic Regression__\n",
    "- __Support Vector Machines__\n",
    "- __Decision Trees__\n",
    "- __k-Nearest Neighbors__\n",
    "- __Naive Bayes__\n",
    "\n",
    "We explore each classifier in turn, trying to build the model with the best accuracy for the test set.\n",
    "We compare classifiers using 10-20 fold cross validation. Do not forget to normalize numeric attributes. After each experiment, use statistical comparison to find out if the current classifier is better than the previous one.\n",
    "\n",
    "__The best score that I managed to achieve was 89.7. So you should not settle for anything less than 89.5.__\n",
    "\n",
    "Document all your experiments in the cells below."
   ]
  },
  {
   "cell_type": "markdown",
   "metadata": {},
   "source": [
    "### Classifiers that work with exclusively numeric attributes\n",
    "\n",
    "### K-NN\n",
    "Use all your knowledge from the K-NN lab to build the K-NN classifier with the best prediction rate. "
   ]
  },
  {
   "cell_type": "code",
   "execution_count": 17,
   "metadata": {},
   "outputs": [],
   "source": [
    "# We need to normalize data, thankfully, the code I used in the KNN lab was fairly modular\n",
    "\n",
    "def normalize(data, print = False, target = \"pep\"):\n",
    "    for column in data.columns:\n",
    "        if (column == target): # This is for something I do at the end\n",
    "            continue\n",
    "        max_val = np.max(data[column])\n",
    "        mean_val = np.mean(data[column])\n",
    "        sd = np.std(data[column])\n",
    "        # Divide by max\n",
    "        data[column] = data[column] / max_val\n",
    "        \n",
    "        # We could also center at 0 by subtracting off the mean\n",
    "        # Or center at 1 by dividing by mean, etc. \n",
    "\n",
    "    if print:\n",
    "        for column in data.columns:\n",
    "            mean = np.mean(data[column])\n",
    "            sd = np.std(data[column])\n",
    "            print(column)\n",
    "            print(mean)\n",
    "            print(sd)\n",
    "        \n",
    "    return data"
   ]
  },
  {
   "cell_type": "code",
   "execution_count": 18,
   "metadata": {},
   "outputs": [],
   "source": [
    "df_norm = normalize(df_num.copy())\n",
    "\n",
    "# We'll reweight according the correlations.\n",
    "# Things with a negative correlation, I weight less\n",
    "# Things with a positive, I weight more\n",
    "\n",
    "df_norm['age'] = df_norm['age']*0.75\n",
    "df_norm['income'] = df_norm['income']*0.75\n",
    "df_norm['children_one'] = df_norm['children_one']*0.5\n",
    "df_norm['married'] = df_norm['married']*1.2\n",
    "df_norm['children_two'] = df_norm['children_two']*1.1\n",
    "from sklearn.model_selection import train_test_split\n",
    "\n",
    "# make data\n",
    "X = df_norm.drop(columns=['pep'])\n",
    "Y = df_norm['pep'].values\n",
    "X_train, X_test, Y_train, Y_test = train_test_split(X, Y, test_size=0.2)"
   ]
  },
  {
   "cell_type": "code",
   "execution_count": 19,
   "metadata": {},
   "outputs": [
    {
     "name": "stdout",
     "output_type": "stream",
     "text": [
      "Train score: 0.7958333333333333\n",
      "Test score: 0.7\n"
     ]
    }
   ],
   "source": [
    "from sklearn.neighbors import KNeighborsClassifier\n",
    "knn = KNeighborsClassifier(n_neighbors=18)\n",
    "\n",
    "knn.fit(X_train, Y_train)\n",
    "print(\"Train score:\", knn.score(X_train, Y_train))\n",
    "print(\"Test score:\", knn.score(X_test, Y_test))"
   ]
  },
  {
   "cell_type": "code",
   "execution_count": 20,
   "metadata": {},
   "outputs": [
    {
     "name": "stdout",
     "output_type": "stream",
     "text": [
      "{'n_neighbors': 17}\n"
     ]
    }
   ],
   "source": [
    "from sklearn.model_selection import GridSearchCV\n",
    "\n",
    "#create new a knn model\n",
    "new_knn = KNeighborsClassifier(weights='distance')\n",
    "\n",
    "#create a dictionary of all values we want to test for n_neighbors\n",
    "grid_dictionary = {'n_neighbors': np.arange(1,35)}\n",
    "\n",
    "grid_search = GridSearchCV(new_knn, grid_dictionary, cv = 20)\n",
    "\n",
    "\n",
    "#fit model to data\n",
    "grid_search.fit(X, Y)\n",
    "print(grid_search.best_params_)"
   ]
  },
  {
   "cell_type": "code",
   "execution_count": 21,
   "metadata": {},
   "outputs": [],
   "source": [
    "# Let's use CV now:\n",
    "cv_knn = KNeighborsClassifier(n_neighbors=34, weights='distance')\n",
    "scores = cross_val_score(cv_knn, X, Y,cv = 20)"
   ]
  },
  {
   "cell_type": "code",
   "execution_count": 22,
   "metadata": {},
   "outputs": [
    {
     "data": {
      "text/plain": [
       "0.75"
      ]
     },
     "execution_count": 22,
     "metadata": {},
     "output_type": "execute_result"
    }
   ],
   "source": [
    "np.mean(scores)"
   ]
  },
  {
   "cell_type": "markdown",
   "metadata": {},
   "source": [
    "### Logistic Regression\n",
    "Try Logistic Regression. Try different Expectation Maximization algorithms. Maybe some variations of regularization? \n",
    "\n",
    "Is your Log Regr score better than the K-NN score? Is it significantly better? If the scores do not differ significantly, you may continue with any of them. Otherwise, continue with the better classifier."
   ]
  },
  {
   "cell_type": "code",
   "execution_count": 35,
   "metadata": {},
   "outputs": [],
   "source": [
    "# make data clean\n",
    "df_lr = normalize(df_num.copy())\n",
    "\n",
    "df_lr['age'] = df_lr['age']*0.75\n",
    "df_lr['income'] = df_lr['income']*0.75\n",
    "df_lr['children_one'] = df_lr['children_one']*0.5\n",
    "df_lr['married'] = df_lr['married']*1.1\n",
    "df_lr['children_two'] = df_lr['children_two']*1\n",
    "\n",
    "lrX = df_lr.drop(columns=['pep'])\n",
    "lrY = df_lr['pep'].values\n",
    "lrX_train, lrX_test, lrY_train, lrY_test = train_test_split(lrX, lrY, test_size=0.2)"
   ]
  },
  {
   "cell_type": "code",
   "execution_count": null,
   "metadata": {},
   "outputs": [],
   "source": []
  },
  {
   "cell_type": "code",
   "execution_count": 37,
   "metadata": {},
   "outputs": [
    {
     "name": "stdout",
     "output_type": "stream",
     "text": [
      "1\n"
     ]
    },
    {
     "data": {
      "text/plain": [
       "0.7433333333333334"
      ]
     },
     "execution_count": 37,
     "metadata": {},
     "output_type": "execute_result"
    }
   ],
   "source": [
    "from sklearn.linear_model import LogisticRegression\n",
    "\n",
    "best_i = 0\n",
    "best_score = 0\n",
    "cur_score = 0\n",
    "for i in range(20):    \n",
    "    lr = LogisticRegression(C = (0.2 + i / 10))\n",
    "    \n",
    "    \n",
    "    cur_score  = np.mean(cross_val_score(lr, lrX, lrY,cv = 10))\n",
    "    if cur_score > best_score:\n",
    "        best_i = i\n",
    "        best_score = cur_score\n",
    "print(best_i)\n",
    "best_score"
   ]
  },
  {
   "cell_type": "code",
   "execution_count": 38,
   "metadata": {},
   "outputs": [
    {
     "data": {
      "text/plain": [
       "0.75"
      ]
     },
     "execution_count": 38,
     "metadata": {},
     "output_type": "execute_result"
    }
   ],
   "source": [
    "lr = LogisticRegression(C = 0.3)\n",
    "lr.fit(lrX_train, lrY_train)\n",
    "lr.score(lrX_test, lrY_test)"
   ]
  },
  {
   "cell_type": "markdown",
   "metadata": {},
   "source": [
    "So we start with a score of 0.792, let's see if we can raise that at all. "
   ]
  },
  {
   "cell_type": "code",
   "execution_count": 198,
   "metadata": {},
   "outputs": [
    {
     "data": {
      "text/plain": [
       "0.7666666666666667"
      ]
     },
     "execution_count": 198,
     "metadata": {},
     "output_type": "execute_result"
    }
   ],
   "source": [
    "lr_new = LogisticRegression(solver = 'newton-cg')\n",
    "lr_new.fit(lrX_train, lrY_train)\n",
    "lr_new.score(lrX_test, lrY_test)"
   ]
  },
  {
   "cell_type": "markdown",
   "metadata": {},
   "source": [
    "Well that did not help. Maybe we can change the penalty?"
   ]
  },
  {
   "cell_type": "code",
   "execution_count": 199,
   "metadata": {},
   "outputs": [
    {
     "data": {
      "text/plain": [
       "0.7666666666666667"
      ]
     },
     "execution_count": 199,
     "metadata": {},
     "output_type": "execute_result"
    }
   ],
   "source": [
    "lr_e = LogisticRegression(dual = True, penalty = 'l2', solver = 'liblinear')\n",
    "\n",
    "\n",
    "lr_e.fit(lrX_train, lrY_train)\n",
    "lr_e.score(lrX_test, lrY_test)"
   ]
  },
  {
   "cell_type": "code",
   "execution_count": 200,
   "metadata": {},
   "outputs": [
    {
     "data": {
      "text/plain": [
       "0.7416666666666667"
      ]
     },
     "execution_count": 200,
     "metadata": {},
     "output_type": "execute_result"
    }
   ],
   "source": [
    "from sklearn.linear_model import LogisticRegressionCV\n",
    "\n",
    "lrCV = LogisticRegressionCV(cv = 10)\n",
    "\n",
    "lrCV.fit(lrX_train, lrY_train)\n",
    "lrCV.score(lrX_test, lrY_test)"
   ]
  },
  {
   "cell_type": "markdown",
   "metadata": {},
   "source": [
    "Maybe we can mess with tolerances?"
   ]
  },
  {
   "cell_type": "code",
   "execution_count": 201,
   "metadata": {},
   "outputs": [
    {
     "data": {
      "text/plain": [
       "0.775"
      ]
     },
     "execution_count": 201,
     "metadata": {},
     "output_type": "execute_result"
    }
   ],
   "source": [
    "lr_tol = LogisticRegression(tol = 0.00005, C = .78, max_iter = 2000) \n",
    "lr_tol.fit(lrX_train, lrY_train)\n",
    "lr_tol.score(lrX_test, lrY_test)"
   ]
  },
  {
   "cell_type": "code",
   "execution_count": 202,
   "metadata": {},
   "outputs": [
    {
     "name": "stderr",
     "output_type": "stream",
     "text": [
      "/Users/isaacweissman/opt/anaconda3/lib/python3.9/site-packages/sklearn/linear_model/_sag.py:328: ConvergenceWarning: The max_iter was reached which means the coef_ did not converge\n",
      "  warnings.warn(\"The max_iter was reached which means \"\n"
     ]
    },
    {
     "data": {
      "text/plain": [
       "0.7083333333333334"
      ]
     },
     "execution_count": 202,
     "metadata": {},
     "output_type": "execute_result"
    }
   ],
   "source": [
    "lr_e = LogisticRegression(penalty = 'elasticnet', solver = 'saga', l1_ratio = 0.75)\n",
    "\n",
    "\n",
    "lr_e.fit(X_train, Y_train)\n",
    "lr_e.score(X_test, Y_test)"
   ]
  },
  {
   "cell_type": "code",
   "execution_count": 203,
   "metadata": {},
   "outputs": [
    {
     "name": "stdout",
     "output_type": "stream",
     "text": [
      "rr 0.26669556668354866\n",
      "lasso -0.020905671296296058\n"
     ]
    }
   ],
   "source": [
    "from sklearn.linear_model import Ridge, Lasso\n",
    "rr = Ridge(alpha=1) \n",
    "rr.fit(lrX_train, lrY_train)\n",
    "print('rr', rr.score(lrX_test, lrY_test))\n",
    "\n",
    "lasso = Lasso(alpha=1, max_iter=10e5)\n",
    "lasso.fit(lrX_train,lrY_train)\n",
    "print('lasso', lasso.score(lrX_test, lrY_test))"
   ]
  },
  {
   "cell_type": "markdown",
   "metadata": {},
   "source": [
    "We never managed to improve out LR score beyond .7916. We got 0.8 in some samples, but that went away with resampling. Not sure what to try now, the two classifiers seem pretty similar so far."
   ]
  },
  {
   "cell_type": "markdown",
   "metadata": {},
   "source": [
    "### Support Vector Machines\n",
    "Try to improve classification with SVM. Compare the scores statistically. COntinue with a better classifier."
   ]
  },
  {
   "cell_type": "code",
   "execution_count": 39,
   "metadata": {},
   "outputs": [
    {
     "data": {
      "text/plain": [
       "0.8333333333333334"
      ]
     },
     "execution_count": 39,
     "metadata": {},
     "output_type": "execute_result"
    }
   ],
   "source": [
    "from sklearn.svm import SVC \n",
    "\n",
    "svm = SVC(kernel = 'poly')\n",
    "svm.fit(lrX_train, lrY_train)\n",
    "svm.score(lrX_test, lrY_test)"
   ]
  },
  {
   "cell_type": "code",
   "execution_count": 40,
   "metadata": {},
   "outputs": [
    {
     "data": {
      "text/plain": [
       "120"
      ]
     },
     "execution_count": 40,
     "metadata": {},
     "output_type": "execute_result"
    }
   ],
   "source": [
    "len(Y_test)"
   ]
  },
  {
   "cell_type": "markdown",
   "metadata": {},
   "source": [
    "Oho! Already we have a better result! Unclear if it is significantly better since I didn't run many samples (meaning it is unclear what the standard deviation would be), to get around this, I did a two sample test of proportions instead of the normal t-test. \n",
    "\n",
    "In testing if our new value is better (strictly greater than our previous result), my Stata tells me that our SVM is NOT noticeably better with our 120 total observations (I used 120 for the testing set size). We have a p-value of 0.11, which is just shy of significance. Can we maybe improve our SVC at all?"
   ]
  },
  {
   "cell_type": "code",
   "execution_count": 41,
   "metadata": {},
   "outputs": [
    {
     "data": {
      "text/plain": [
       "0.875"
      ]
     },
     "execution_count": 41,
     "metadata": {},
     "output_type": "execute_result"
    }
   ],
   "source": [
    "svm = SVC()\n",
    "svm.fit(lrX_train, lrY_train)\n",
    "svm.score(lrX_test, lrY_test)"
   ]
  },
  {
   "cell_type": "markdown",
   "metadata": {},
   "source": [
    "Switching to the default kernel function, we raise our score a little bit. This actually ticks us over into significance at the 10% level, which is nice. But, as we asked all too often in Algorithms, can we do better?"
   ]
  },
  {
   "cell_type": "code",
   "execution_count": 42,
   "metadata": {},
   "outputs": [
    {
     "name": "stdout",
     "output_type": "stream",
     "text": [
      "0.8233333333333335 poly\n"
     ]
    }
   ],
   "source": [
    "best_t = ''\n",
    "best_score = 0\n",
    "cur_score = 0\n",
    "for typ in ['linear', 'poly', 'rbf', 'sigmoid']:\n",
    "    t_svm = SVC(kernel = typ)\n",
    "    scores = cross_val_score(t_svm, lrX, lrY,cv = 20)\n",
    "    cur_score = np.mean(scores)\n",
    "    if cur_score > best_score:\n",
    "        best_score = cur_score\n",
    "        best_t = typ\n",
    "        \n",
    "print(best_score, best_t)"
   ]
  },
  {
   "cell_type": "markdown",
   "metadata": {},
   "source": [
    "Maybe we cant..."
   ]
  },
  {
   "cell_type": "code",
   "execution_count": 43,
   "metadata": {},
   "outputs": [
    {
     "data": {
      "text/plain": [
       "0.8233333333333335"
      ]
     },
     "execution_count": 43,
     "metadata": {},
     "output_type": "execute_result"
    }
   ],
   "source": [
    "# Let's use CV now:\n",
    "cv_svm = SVC(kernel = 'poly')\n",
    "scores = cross_val_score(cv_svm, lrX, lrY,cv = 20)\n",
    "np.mean(scores)"
   ]
  },
  {
   "cell_type": "markdown",
   "metadata": {},
   "source": [
    "### It is pretty clear that SVM might be our best bet. So let's experiment with our weights to try to maximize our scores\n"
   ]
  },
  {
   "cell_type": "code",
   "execution_count": 77,
   "metadata": {},
   "outputs": [],
   "source": [
    "# make data clean\n",
    "df_svm = normalize(df_num.copy())\n",
    "\n",
    "df_svm['age'] = df_svm['age']*1\n",
    "df_svm['income'] = df_svm['income']*1\n",
    "df_svm['children_one'] = df_svm['children_one']*1\n",
    "df_svm['married'] = df_svm['married']*1\n",
    "df_svm['children_two'] = df_svm['children_two']*1\n",
    "\n",
    "svmX = df_svm.drop(columns=['pep'])\n",
    "svmY = df_svm['pep'].values\n",
    "svmX_train, svmX_test, svmY_train, svmY_test = train_test_split(svmX, svmY, test_size=0.2)"
   ]
  },
  {
   "cell_type": "code",
   "execution_count": 82,
   "metadata": {},
   "outputs": [
    {
     "name": "stdout",
     "output_type": "stream",
     "text": [
      "0.5816666666666667 poly\n"
     ]
    }
   ],
   "source": [
    "# No weights, un-normalized: \n",
    "# (we remove the linear kernel, it would take too long)\n",
    "df_svm = df_num.copy()\n",
    "svmX = df_svm.drop(columns=['pep'])\n",
    "svmY = df_svm['pep'].values\n",
    "svmX_train, svmX_test, svmY_train, svmY_test = train_test_split(svmX, svmY, test_size=0.2)\n",
    "best_t = ''\n",
    "best_score = 0\n",
    "cur_score = 0\n",
    "for typ in ['poly', 'rbf', 'sigmoid']:\n",
    "    t_svm = SVC(kernel = typ)\n",
    "    scores = cross_val_score(t_svm, svmX, svmY,cv = 20)\n",
    "    cur_score = np.mean(scores)\n",
    "    if cur_score > best_score:\n",
    "        best_score = cur_score\n",
    "        best_t = typ\n",
    "        \n",
    "print(best_score, best_t)"
   ]
  },
  {
   "cell_type": "code",
   "execution_count": 200,
   "metadata": {},
   "outputs": [
    {
     "name": "stdout",
     "output_type": "stream",
     "text": [
      "0.8400000000000002 poly\n"
     ]
    }
   ],
   "source": [
    "# Normalized: Unweighted\n",
    "\n",
    "df_svm = normalize(df_num.copy())\n",
    "\n",
    "df_svm['age'] = df_svm['age']*1\n",
    "df_svm['income'] = df_svm['income']*1\n",
    "df_svm['children_one'] = df_svm['children_one']*1\n",
    "df_svm['married'] = df_svm['married']*1\n",
    "df_svm['children_two'] = df_svm['children_two']*1\n",
    "\n",
    "svmX = df_svm.drop(columns=['pep'])\n",
    "svmY = df_svm['pep'].values\n",
    "svmX_train, svmX_test, svmY_train, svmY_test = train_test_split(svmX, svmY, test_size=0.2)\n",
    "\n",
    "best_t = ''\n",
    "best_score = 0\n",
    "cur_score = 0\n",
    "for typ in ['linear','poly', 'rbf', 'sigmoid']:\n",
    "    t_svm = SVC(kernel = typ)\n",
    "    scores = cross_val_score(t_svm, svmX, svmY,cv = 20)\n",
    "    cur_score = np.mean(scores)\n",
    "    if cur_score > best_score:\n",
    "        best_score = cur_score\n",
    "        best_t = typ\n",
    "        \n",
    "print(best_score, best_t)"
   ]
  },
  {
   "cell_type": "markdown",
   "metadata": {},
   "source": [
    "Pretty good! A score of 0.84 is definitely a good start"
   ]
  },
  {
   "cell_type": "code",
   "execution_count": 119,
   "metadata": {},
   "outputs": [
    {
     "name": "stdout",
     "output_type": "stream",
     "text": [
      "0.8533333333333333 poly3\n"
     ]
    }
   ],
   "source": [
    "# Changing weights?\n",
    "\n",
    "df_svm = normalize(df_num.copy())\n",
    "\n",
    "df_svm['age'] = df_svm['age']*1.5\n",
    "df_svm['income'] = df_svm['income']*2\n",
    "df_svm['children_one'] = df_svm['children_one']*2.5\n",
    "df_svm['married'] = df_svm['married']*1\n",
    "df_svm['children_two'] = df_svm['children_two']*1\n",
    "\n",
    "svmX = df_svm.drop(columns=['pep'])\n",
    "svmY = df_svm['pep'].values\n",
    "svmX_train, svmX_test, svmY_train, svmY_test = train_test_split(svmX, svmY, test_size=0.2)\n",
    "\n",
    "best_t = ''\n",
    "best_score = 0\n",
    "cur_score = 0\n",
    "deg = 3\n",
    "for typ in ['linear','poly', 'rbf', 'sigmoid']:\n",
    "        for deg in range(2, 6):\n",
    "            t_svm = SVC(kernel = typ, degree = deg)\n",
    "            scores = cross_val_score(t_svm, svmX, svmY,cv = 20)\n",
    "            cur_score = np.mean(scores)\n",
    "            if cur_score > best_score:\n",
    "                best_score = cur_score\n",
    "                if typ == 'poly':\n",
    "                    best_t = typ+str(deg)\n",
    "                else:\n",
    "                    best_t = typ\n",
    "            if typ != 'poly':\n",
    "                break\n",
    "        \n",
    "print(best_score, best_t)"
   ]
  },
  {
   "cell_type": "markdown",
   "metadata": {},
   "source": [
    "Ok! Now we're getting somewhere. By increasing certain values, we can raise our svm scores"
   ]
  },
  {
   "cell_type": "code",
   "execution_count": 251,
   "metadata": {},
   "outputs": [
    {
     "name": "stdout",
     "output_type": "stream",
     "text": [
      "0.8566666666666667 poly3\n"
     ]
    }
   ],
   "source": [
    "# Changing weights?\n",
    "df_svm = normalize(df_num.copy())\n",
    "\n",
    "df_svm['age'] = df_svm['age']*1.45\n",
    "df_svm['income'] = df_svm['income']*2\n",
    "df_svm['children_one'] = df_svm['children_one']*2.5\n",
    "df_svm['children_two'] = df_svm['children_two']*0.95\n",
    "df_svm['married'] = df_svm['married']*0.975\n",
    "\n",
    "svmX = df_svm.drop(columns=['pep'])\n",
    "svmY = df_svm['pep'].values\n",
    "svmX_train, svmX_test, svmY_train, svmY_test = train_test_split(svmX, svmY, test_size=0.2)\n",
    "\n",
    "best_t = ''\n",
    "best_score = 0\n",
    "cur_score = 0\n",
    "deg = 3\n",
    "for typ in ['linear','poly', 'rbf', 'sigmoid']:\n",
    "        for deg in range(1, 7):\n",
    "            t_svm = SVC(kernel = typ, degree = deg, tol=0.001)\n",
    "            scores = cross_val_score(t_svm, svmX, svmY,cv = 20)\n",
    "            cur_score = np.mean(scores)\n",
    "            if cur_score > best_score:\n",
    "                best_score = cur_score\n",
    "                if typ == 'poly':\n",
    "                    best_t = typ+str(deg)\n",
    "                else:\n",
    "                    best_t = typ\n",
    "            if typ != 'poly':\n",
    "                break\n",
    "\n",
    "print(best_score, best_t)"
   ]
  },
  {
   "cell_type": "markdown",
   "metadata": {},
   "source": [
    "We can tune in a little bit more, I wrote a for loop that tests all values in a cloud of the points around the previous weight, and ended up with this as my maximum score. \n",
    "\n",
    "We're now at 85.67 score. \n",
    "\n",
    "Can we do better?"
   ]
  },
  {
   "cell_type": "code",
   "execution_count": 188,
   "metadata": {},
   "outputs": [
    {
     "name": "stdout",
     "output_type": "stream",
     "text": [
      "0.8433333333333334 poly4 0.5\n",
      "0.8466666666666667 poly4 0.6\n",
      "0.8483333333333334 poly4 0.7\n",
      "0.8466666666666667 poly3 0.8\n",
      "0.8450000000000001 poly3 0.9\n",
      "0.8566666666666667 poly3 1.0\n",
      "0.8550000000000001 poly3 1.1\n",
      "0.8516666666666668 poly3 1.2\n",
      "0.8500000000000002 rbf 1.3\n",
      "0.8516666666666668 rbf 1.4\n",
      "0.8516666666666668 rbf 1.5\n",
      "0.8533333333333335 rbf 1.6\n",
      "0.8533333333333335 rbf 1.7\n",
      "0.8533333333333335 rbf 1.8\n",
      "0.8550000000000002 rbf 1.9\n",
      "0.8583333333333336 rbf 2.0\n",
      "0.8583333333333336 rbf 2.1\n",
      "0.8566666666666668 rbf 2.2\n",
      "0.8583333333333334 rbf 2.3\n",
      "0.8600000000000001 rbf 2.4\n"
     ]
    }
   ],
   "source": [
    "    # Changing our regularization parameter:\n",
    "for c_val in range(50, 250, 10):\n",
    "        df_svm = normalize(df_num.copy())\n",
    "\n",
    "        df_svm['age'] = df_svm['age']*1.45\n",
    "        df_svm['income'] = df_svm['income']*2\n",
    "        df_svm['children_one'] = df_svm['children_one']*2.5\n",
    "        df_svm['children_two'] = df_svm['children_two']*0.95\n",
    "        # I actually always meant to use children three instead of 2\n",
    "        df_svm['children_three'] = df_svm['children_three']*0.975\n",
    "        df_svm['married'] = df_svm['married']*0.975\n",
    "\n",
    "        svmX = df_svm.drop(columns=['pep'])\n",
    "        svmY = df_svm['pep'].values\n",
    "        svmX_train, svmX_test, svmY_train, svmY_test = train_test_split(svmX, svmY, test_size=0.2)\n",
    "\n",
    "        best_t = ''\n",
    "        best_score = 0\n",
    "        cur_score = 0\n",
    "        deg = 3\n",
    "        for typ in ['linear','poly', 'rbf', 'sigmoid']:\n",
    "                for deg in range(2, 6):\n",
    "                    t_svm = SVC(kernel = typ, degree = deg, C = c_val/100)\n",
    "                    scores = cross_val_score(t_svm, svmX, svmY,cv = 20)\n",
    "                    cur_score = np.mean(scores)\n",
    "                    if cur_score > best_score:\n",
    "                        best_score = cur_score\n",
    "                        if typ == 'poly':\n",
    "                            best_t = typ+str(deg)\n",
    "                        else:\n",
    "                            best_t = typ\n",
    "                    if typ != 'poly':\n",
    "                        break\n",
    "\n",
    "        print(best_score, best_t, c_val/100)"
   ]
  },
  {
   "cell_type": "markdown",
   "metadata": {},
   "source": [
    "We can get up to 86%!"
   ]
  },
  {
   "cell_type": "code",
   "execution_count": 190,
   "metadata": {},
   "outputs": [
    {
     "name": "stdout",
     "output_type": "stream",
     "text": [
      "0.8683333333333334 rbf 3.0\n",
      "0.8683333333333334 rbf 3.05\n",
      "0.8666666666666668 rbf 3.1\n",
      "0.865 rbf 3.15\n",
      "0.8666666666666668 rbf 3.2\n",
      "0.8666666666666668 rbf 3.25\n",
      "0.865 rbf 3.3\n",
      "0.865 rbf 3.35\n",
      "0.865 rbf 3.4\n",
      "0.865 rbf 3.45\n",
      "0.865 rbf 3.5\n",
      "0.8666666666666666 rbf 3.55\n",
      "0.865 rbf 3.6\n",
      "0.865 rbf 3.65\n",
      "0.865 rbf 3.7\n",
      "0.865 rbf 3.75\n",
      "0.865 rbf 3.8\n",
      "0.865 rbf 3.85\n",
      "0.865 rbf 3.9\n",
      "0.865 rbf 3.95\n",
      "0.865 rbf 4.0\n",
      "0.865 rbf 4.05\n"
     ]
    }
   ],
   "source": [
    "    # Changing our regularization parameter AGAIN!:\n",
    "for c_val in range(300, 410, 5):\n",
    "        df_svm = normalize(df_num.copy())\n",
    "\n",
    "        df_svm['age'] = df_svm['age']*1.45\n",
    "        df_svm['income'] = df_svm['income']*2\n",
    "        df_svm['children_one'] = df_svm['children_one']*2.5\n",
    "        df_svm['children_two'] = df_svm['children_two']*0.95\n",
    "        # I actually always meant to use children three instead of 2\n",
    "        df_svm['children_three'] = df_svm['children_three']*0.975\n",
    "        df_svm['married'] = df_svm['married']*0.975\n",
    "\n",
    "        svmX = df_svm.drop(columns=['pep'])\n",
    "        svmY = df_svm['pep'].values\n",
    "        svmX_train, svmX_test, svmY_train, svmY_test = train_test_split(svmX, svmY, test_size=0.2)\n",
    "\n",
    "        best_t = ''\n",
    "        best_score = 0\n",
    "        cur_score = 0\n",
    "        deg = 3\n",
    "        for typ in ['linear','poly', 'rbf', 'sigmoid']:\n",
    "                for deg in range(2, 6):\n",
    "                    t_svm = SVC(kernel = typ, degree = deg, C = c_val/100)\n",
    "                    scores = cross_val_score(t_svm, svmX, svmY,cv = 20)\n",
    "                    cur_score = np.mean(scores)\n",
    "                    if cur_score > best_score:\n",
    "                        best_score = cur_score\n",
    "                        if typ == 'poly':\n",
    "                            best_t = typ+str(deg)\n",
    "                        else:\n",
    "                            best_t = typ\n",
    "                    if typ != 'poly':\n",
    "                        break\n",
    "\n",
    "        print(best_score, best_t, c_val/100)"
   ]
  },
  {
   "cell_type": "markdown",
   "metadata": {},
   "source": [
    "Now let's try using the RBF with a regularization of 3.0 on different weights:\n",
    "Our current best is 86.83"
   ]
  },
  {
   "cell_type": "code",
   "execution_count": 196,
   "metadata": {},
   "outputs": [
    {
     "name": "stdout",
     "output_type": "stream",
     "text": [
      "0.8683333333333334 rbf\n"
     ]
    }
   ],
   "source": [
    "df_svm = normalize(df_num.copy())\n",
    "\n",
    "df_svm['age'] = df_svm['age']*1.45\n",
    "df_svm['income'] = df_svm['income']*2\n",
    "df_svm['children_one'] = df_svm['children_one']*2.5\n",
    "df_svm['children_two'] = df_svm['children_two']*0.95\n",
    "# I actually always meant to use children three instead of 2\n",
    "df_svm['children_three'] = df_svm['children_three']*1\n",
    "df_svm['married'] = df_svm['married']*0.975\n",
    "\n",
    "svmX = df_svm.drop(columns=['pep'])\n",
    "svmY = df_svm['pep'].values\n",
    "svmX_train, svmX_test, svmY_train, svmY_test = train_test_split(svmX, svmY, test_size=0.2)\n",
    "\n",
    "best_t = ''\n",
    "best_score = 0\n",
    "cur_score = 0\n",
    "deg = 3\n",
    "for typ in ['linear','poly', 'rbf', 'sigmoid']:\n",
    "        for deg in range(2, 6):\n",
    "            t_svm = SVC(kernel = typ, degree = deg, C = 3, tol )\n",
    "            scores = cross_val_score(t_svm, svmX, svmY,cv = 20)\n",
    "            cur_score = np.mean(scores)\n",
    "            if cur_score > best_score:\n",
    "                best_score = cur_score\n",
    "                if typ == 'poly':\n",
    "                    best_t = typ+str(deg)\n",
    "                else:\n",
    "                    best_t = typ\n",
    "            if typ != 'poly':\n",
    "                break\n",
    "\n",
    "print(best_score, best_t)"
   ]
  },
  {
   "cell_type": "markdown",
   "metadata": {},
   "source": [
    "### Classifiers that work with both numeric and categorical attributes\n",
    "### Naive Bayes\n",
    "We can use Naive Bayes classifier on the original dataset without replacing categorical values with numeric ones. \n",
    "Think which parameters still need to be adjusted. Maybe try binning income and age into categorical bins. Try Naive Bayes classifier. Adjust parameters. Maybe you can use a ROC curve to set a different classification threshold? Select the best classifer so far."
   ]
  },
  {
   "cell_type": "code",
   "execution_count": 238,
   "metadata": {},
   "outputs": [
    {
     "data": {
      "image/png": "[encoded data removed]",
      "text/plain": [
       "<Figure size 432x288 with 1 Axes>"
      ]
     },
     "metadata": {
      "needs_background": "light"
     },
     "output_type": "display_data"
    }
   ],
   "source": [
    "# Let's bucket everything now, and re-import data:\n",
    "\n",
    "\n",
    "bayes = data.copy() \n",
    "bayes.plot.hist(y = 'income')\n",
    "# Let's have 4 categories, <17000, 17000-23000, 23000-30000, >30,000\n",
    "# Age to bins\n",
    "bins = [17000, 23000, 29000, np.inf]\n",
    "names = [0, 1, 2]\n",
    "bayes['income'] = pd.cut(bayes['income'], bins, labels=names)\n",
    "\n",
    "bins = [15, 30, 45, 60, np.inf]\n",
    "names = [0, 1, 2, 3]\n",
    "\n",
    "bayes['age'] = pd.cut(bayes['age'], bins, labels=names)"
   ]
  },
  {
   "cell_type": "code",
   "execution_count": 243,
   "metadata": {},
   "outputs": [],
   "source": [
    "bayes['sex'].replace(['FEMALE', 'MALE'], [0,1], inplace=True)\n",
    "\n",
    "bayes['married'].replace(['NO', 'YES'], [0,1], inplace=True)\n",
    "bayes['car'].replace(['NO', 'YES'], [0,1], inplace=True)\n",
    "bayes['save_act'].replace(['NO', 'YES'], [0,1], inplace=True)\n",
    "bayes['current_act'].replace(['NO', 'YES'], [0,1], inplace=True)\n",
    "bayes['mortgage'].replace(['NO', 'YES'], [0,1], inplace=True)\n",
    "bayes['pep'].replace(['NO', 'YES'], [0,1], inplace=True)\n",
    "bayes['region'].replace(['INNER_CITY', 'TOWN', 'RURAL', 'SUBURBAN'], [0, 1, 2, 3], inplace = True)"
   ]
  },
  {
   "cell_type": "code",
   "execution_count": 244,
   "metadata": {},
   "outputs": [],
   "source": [
    "# make data clean\n",
    "bayes_X = bayes.drop(columns=['pep'])\n",
    "bayes_Y = bayes['pep'].values\n",
    "bayes_X_train, bayes_X_test, bayes_Y_train, bayes_Y_test = train_test_split(bayes_X, bayes_Y, test_size=0.2)"
   ]
  },
  {
   "cell_type": "code",
   "execution_count": null,
   "metadata": {},
   "outputs": [],
   "source": []
  },
  {
   "cell_type": "code",
   "execution_count": 247,
   "metadata": {},
   "outputs": [
    {
     "name": "stdout",
     "output_type": "stream",
     "text": [
      "0.6949999999999998\n"
     ]
    },
    {
     "data": {
      "text/plain": [
       "0.7416666666666667"
      ]
     },
     "execution_count": 247,
     "metadata": {},
     "output_type": "execute_result"
    }
   ],
   "source": [
    "from sklearn.naive_bayes import CategoricalNB\n",
    "\n",
    "naive = CategoricalNB()\n",
    "cv_score = np.mean(cross_val_score(naive, bayes_X, bayes_Y,cv = 20))\n",
    "print(cv_score)\n",
    "naive.fit(bayes_X_train, bayes_Y_train)\n",
    "naive.score(bayes_X_test, bayes_Y_test)"
   ]
  },
  {
   "cell_type": "markdown",
   "metadata": {},
   "source": [
    "Uh oh, this isn't very good...\n",
    "\n",
    "I did a few modifications, and every move made things worse.\n"
   ]
  },
  {
   "cell_type": "markdown",
   "metadata": {},
   "source": [
    "### Decision tree\n",
    "Unfortunately the sklearn implementation of the decision tree does not take the full advantage of the decision tree power. The sklearn implementation does not work with categorical attributes. You can of course use it on the numeric dataset. The reesults however will be discouraging. Nevertheless try it, play with parameters.\n",
    "\n",
    "You have of course the option of using our custom Decision tree code. You can look at the decision tree produced by our custom code to determine which attributes are most important for classification. You can then reweight them, or even get rid of some attributes and repeat your experiments with all the five classifiers. As a matter of fact, using only a subset of attributes identified this way I was able to improve the classification score.\n",
    "\n",
    "You can also use our custom decision tree as a final classifier, but it requires additional coding to produce probability of class prediction and to evaluate the performance. So do it only if you have time (and desire)."
   ]
  },
  {
   "cell_type": "code",
   "execution_count": 248,
   "metadata": {},
   "outputs": [
    {
     "data": {
      "text/plain": [
       "0.8116666666666668"
      ]
     },
     "execution_count": 248,
     "metadata": {},
     "output_type": "execute_result"
    }
   ],
   "source": [
    "from sklearn.tree import DecisionTreeClassifier\n",
    "\n",
    "# Decision Trees with numeric attributes are scale independent, so we don't need to scale at all. \n",
    "\n",
    "df_dt = df_num.copy()\n",
    "dec_tree = DecisionTreeClassifier()\n",
    "\n",
    "df_dt_X = df_dt.drop(columns=['pep'])\n",
    "df_dt_Y = df_dt['pep'].values\n",
    "np.mean(cross_val_score(dec_tree, bayes_X, bayes_Y,cv = 20))"
   ]
  },
  {
   "cell_type": "markdown",
   "metadata": {},
   "source": [
    "This isn't actually as bad as I was expecting, this is a decent score!"
   ]
  },
  {
   "cell_type": "markdown",
   "metadata": {},
   "source": [
    "### SELECT FINAL CLASSIFIER\n",
    "After all the experiments, select the classifier with the best accuracy (you used cross-validation).\n",
    "\n",
    "Now break your dataset into two parts (using 1:2 ratio) and use one part for testing and 2 parts for building the model.\n",
    "\n",
    "After you buid the final model, make the predictions for each instance in the test set, and record these predictions as _PROBABILITIES_ of belonging to the 'pep' class. __Store these predictions in a separate csv file. This is the input for Part II of this mini-project.__"
   ]
  },
  {
   "cell_type": "code",
   "execution_count": 420,
   "metadata": {},
   "outputs": [
    {
     "data": {
      "text/plain": [
       "SVC(C=3, probability=True)"
      ]
     },
     "execution_count": 420,
     "metadata": {},
     "output_type": "execute_result"
    }
   ],
   "source": [
    "df_svm = normalize(df_num.copy())\n",
    "\n",
    "df_svm['age'] = df_svm['age']*1.45\n",
    "df_svm['income'] = df_svm['income']*2\n",
    "df_svm['children_one'] = df_svm['children_one']*2.5\n",
    "df_svm['children_two'] = df_svm['children_two']*0.95\n",
    "# I actually always meant to use children three instead of 2\n",
    "df_svm['children_three'] = df_svm['children_three']*1\n",
    "df_svm['married'] = df_svm['married']*0.975\n",
    "\n",
    "svmX = df_svm.drop(columns=['pep'])\n",
    "svmY = df_svm['pep'].values\n",
    "svmX_train, svmX_test, svmY_train, svmY_test = train_test_split(svmX, svmY, test_size=0.3333333333333333333333)\n",
    "\n",
    "t_svm = SVC(kernel = 'rbf', C = 3, probability = True)\n",
    "t_svm.fit(svmX_train, svmY_train)\n"
   ]
  },
  {
   "cell_type": "code",
   "execution_count": 421,
   "metadata": {},
   "outputs": [],
   "source": [
    "probs = t_svm.predict_proba(svmX_test)"
   ]
  },
  {
   "cell_type": "code",
   "execution_count": 422,
   "metadata": {},
   "outputs": [],
   "source": [
    "prob_df = pd.DataFrame(probs, columns = ['noPep', 'yesPep'])\n",
    "prob_df['pred_class'] = np.where(prob_df['yesPep'] >= 0.5, 1, 0)\n",
    "prob_df['true_class'] = svmY_test"
   ]
  },
  {
   "cell_type": "code",
   "execution_count": 423,
   "metadata": {},
   "outputs": [
    {
     "data": {
      "text/plain": [
       "array([0, 0, 0, 1, 0, 1, 0, 1, 0, 1, 0, 1, 0, 1, 0, 0, 1, 1, 0, 0, 0, 0,\n",
       "       0, 0, 0, 0, 0, 0, 0, 0, 1, 0, 0, 1, 1, 0, 0, 1, 0, 1, 1, 0, 1, 0,\n",
       "       0, 0, 1, 1, 1, 1, 0, 0, 1, 1, 1, 0, 0, 0, 1, 1, 0, 0, 0, 0, 1, 1,\n",
       "       1, 0, 0, 1, 1, 0, 0, 0, 0, 1, 1, 1, 1, 1, 1, 0, 1, 1, 0, 1, 1, 0,\n",
       "       1, 1, 0, 1, 1, 0, 0, 1, 0, 0, 0, 1, 1, 1, 0, 1, 0, 0, 0, 1, 0, 1,\n",
       "       0, 0, 1, 0, 1, 1, 0, 0, 0, 0, 1, 0, 1, 0, 1, 1, 1, 1, 0, 1, 1, 1,\n",
       "       0, 1, 0, 0, 1, 0, 1, 0, 0, 0, 1, 0, 0, 0, 0, 1, 0, 0, 0, 1, 0, 0,\n",
       "       1, 1, 1, 0, 1, 0, 0, 0, 0, 1, 0, 0, 1, 0, 1, 1, 1, 0, 0, 0, 1, 0,\n",
       "       0, 1, 1, 0, 0, 1, 1, 1, 0, 0, 1, 1, 1, 0, 1, 1, 0, 0, 0, 0, 0, 0,\n",
       "       1, 1], dtype=int64)"
      ]
     },
     "execution_count": 423,
     "metadata": {},
     "output_type": "execute_result"
    }
   ],
   "source": [
    "t_svm.predict(svmX_test)"
   ]
  },
  {
   "cell_type": "code",
   "execution_count": 424,
   "metadata": {},
   "outputs": [],
   "source": [
    "prob_df.to_csv(\"probs.csv\", index = False)"
   ]
  },
  {
   "cell_type": "markdown",
   "metadata": {},
   "source": [
    "## Part II. Business pitch"
   ]
  },
  {
   "cell_type": "markdown",
   "metadata": {},
   "source": [
    "### Lift chart\n",
    "The result of the previous part is the table of predicted class labels for each instance in the test set. The predictions are expressed in terms of probability of being classified as 'pep' - that is, probability that the respondents buy the equity plan.\n",
    "\n",
    "Our main business proposal is to take a new dataset of potential subscribers, predict their response using our best model, and use only top-ranked customers for the next promotion. \n",
    "\n",
    "Here we want to persuade the bank that targeting selected customers will improve the campaign efficiency: that we can achieve a much better response rate.\n",
    "\n",
    "First, we sort the test dataset by the predicted class - from Yes to No, and then by probability (from highest to the lowest for Yes and from lowest to highest for No). Keep the sorted file separately from the original test set - we need both datasets.\n",
    "\n",
    "Next, we count the number of successfully predicted subscribers, adding for each row in the sorted dataset the cumulative number of customers which responded to the offer. Now, for each number of letter sent we plot the total number of positive responses (see image below for an example). "
   ]
  },
  {
   "cell_type": "markdown",
   "metadata": {},
   "source": [
    "<img src = \"images/counts.png\" text-align=\"center\" width=50%>"
   ]
  },
  {
   "cell_type": "markdown",
   "metadata": {},
   "source": [
    "What can we learn from this chart? The logic is that if we send 10 letters - the success rate of these letters will be high, because 9 out of 10 would reply. If we send 100 letters the success rate would be 69%. However with 100 letters this means 69 new subscribers, and with 10 - only 9. We want to know what is the optimal number of letters to be sent to maximize the profit."
   ]
  },
  {
   "cell_type": "markdown",
   "metadata": {},
   "source": [
    "<img src = \"images/LiftChart.png\" text-align=\"center\" width=50%>"
   ]
  },
  {
   "cell_type": "markdown",
   "metadata": {},
   "source": [
    "For business audience we visualize the results using lift charts, where on the X axis is a number of letters sent, and on the Y axis is the proportion of positive responses for the random mailing and for the mailing which would use the top-ranked customers first. Lift (in the business world) is the ratio of the expected ‘Yes’ responses using the top of predicted list to the number of ‘Yes’ responses from the same number of randomly selected customers. Lift measures the change in the concentration of a target class when the model is applied to the future dataset. Note that if we would send all 180 letters we would have 83 positive responses (46% total success) in both cases.\n",
    "\n",
    "Analyzing this chart, we can see that by sending mails to only 73/180 = 40% of the customers from the top of the ranked list, we should be able to cover 82% of potential responders. \n",
    "\n",
    "Note that we cannot ever cover all 100% of responsive customers, unless we send letters to everybody - our model does not give 100% correct answers."
   ]
  },
  {
   "cell_type": "markdown",
   "metadata": {},
   "source": [
    "__Create the Lift chart from your results, and write a couple of sentences pitching the use of a classifier.__"
   ]
  },
  {
   "cell_type": "code",
   "execution_count": 425,
   "metadata": {},
   "outputs": [
    {
     "data": {
      "text/html": [
       "<div>\n",
       "<style scoped>\n",
       "    .dataframe tbody tr th:only-of-type {\n",
       "        vertical-align: middle;\n",
       "    }\n",
       "\n",
       "    .dataframe tbody tr th {\n",
       "        vertical-align: top;\n",
       "    }\n",
       "\n",
       "    .dataframe thead th {\n",
       "        text-align: right;\n",
       "    }\n",
       "</style>\n",
       "<table border=\"1\" class=\"dataframe\">\n",
       "  <thead>\n",
       "    <tr style=\"text-align: right;\">\n",
       "      <th></th>\n",
       "      <th>noPep</th>\n",
       "      <th>yesPep</th>\n",
       "      <th>pred_class</th>\n",
       "      <th>true_class</th>\n",
       "    </tr>\n",
       "  </thead>\n",
       "  <tbody>\n",
       "    <tr>\n",
       "      <th>0</th>\n",
       "      <td>0.840042</td>\n",
       "      <td>0.159958</td>\n",
       "      <td>0</td>\n",
       "      <td>0</td>\n",
       "    </tr>\n",
       "    <tr>\n",
       "      <th>1</th>\n",
       "      <td>0.550952</td>\n",
       "      <td>0.449048</td>\n",
       "      <td>0</td>\n",
       "      <td>0</td>\n",
       "    </tr>\n",
       "    <tr>\n",
       "      <th>2</th>\n",
       "      <td>0.821567</td>\n",
       "      <td>0.178433</td>\n",
       "      <td>0</td>\n",
       "      <td>1</td>\n",
       "    </tr>\n",
       "    <tr>\n",
       "      <th>3</th>\n",
       "      <td>0.064190</td>\n",
       "      <td>0.935810</td>\n",
       "      <td>1</td>\n",
       "      <td>1</td>\n",
       "    </tr>\n",
       "    <tr>\n",
       "      <th>4</th>\n",
       "      <td>0.843162</td>\n",
       "      <td>0.156838</td>\n",
       "      <td>0</td>\n",
       "      <td>0</td>\n",
       "    </tr>\n",
       "    <tr>\n",
       "      <th>...</th>\n",
       "      <td>...</td>\n",
       "      <td>...</td>\n",
       "      <td>...</td>\n",
       "      <td>...</td>\n",
       "    </tr>\n",
       "    <tr>\n",
       "      <th>195</th>\n",
       "      <td>0.971127</td>\n",
       "      <td>0.028873</td>\n",
       "      <td>0</td>\n",
       "      <td>0</td>\n",
       "    </tr>\n",
       "    <tr>\n",
       "      <th>196</th>\n",
       "      <td>0.822177</td>\n",
       "      <td>0.177823</td>\n",
       "      <td>0</td>\n",
       "      <td>0</td>\n",
       "    </tr>\n",
       "    <tr>\n",
       "      <th>197</th>\n",
       "      <td>0.933982</td>\n",
       "      <td>0.066018</td>\n",
       "      <td>0</td>\n",
       "      <td>0</td>\n",
       "    </tr>\n",
       "    <tr>\n",
       "      <th>198</th>\n",
       "      <td>0.162801</td>\n",
       "      <td>0.837199</td>\n",
       "      <td>1</td>\n",
       "      <td>1</td>\n",
       "    </tr>\n",
       "    <tr>\n",
       "      <th>199</th>\n",
       "      <td>0.189935</td>\n",
       "      <td>0.810065</td>\n",
       "      <td>1</td>\n",
       "      <td>1</td>\n",
       "    </tr>\n",
       "  </tbody>\n",
       "</table>\n",
       "<p>200 rows × 4 columns</p>\n",
       "</div>"
      ],
      "text/plain": [
       "        noPep    yesPep  pred_class  true_class\n",
       "0    0.840042  0.159958           0           0\n",
       "1    0.550952  0.449048           0           0\n",
       "2    0.821567  0.178433           0           1\n",
       "3    0.064190  0.935810           1           1\n",
       "4    0.843162  0.156838           0           0\n",
       "..        ...       ...         ...         ...\n",
       "195  0.971127  0.028873           0           0\n",
       "196  0.822177  0.177823           0           0\n",
       "197  0.933982  0.066018           0           0\n",
       "198  0.162801  0.837199           1           1\n",
       "199  0.189935  0.810065           1           1\n",
       "\n",
       "[200 rows x 4 columns]"
      ]
     },
     "execution_count": 425,
     "metadata": {},
     "output_type": "execute_result"
    }
   ],
   "source": [
    "# We can re_use the probs_df from before\n",
    "prob_df"
   ]
  },
  {
   "cell_type": "code",
   "execution_count": 426,
   "metadata": {},
   "outputs": [
    {
     "data": {
      "text/html": [
       "<div>\n",
       "<style scoped>\n",
       "    .dataframe tbody tr th:only-of-type {\n",
       "        vertical-align: middle;\n",
       "    }\n",
       "\n",
       "    .dataframe tbody tr th {\n",
       "        vertical-align: top;\n",
       "    }\n",
       "\n",
       "    .dataframe thead th {\n",
       "        text-align: right;\n",
       "    }\n",
       "</style>\n",
       "<table border=\"1\" class=\"dataframe\">\n",
       "  <thead>\n",
       "    <tr style=\"text-align: right;\">\n",
       "      <th></th>\n",
       "      <th>noPep</th>\n",
       "      <th>yesPep</th>\n",
       "      <th>pred_class</th>\n",
       "      <th>true_class</th>\n",
       "    </tr>\n",
       "  </thead>\n",
       "  <tbody>\n",
       "    <tr>\n",
       "      <th>166</th>\n",
       "      <td>0.007301</td>\n",
       "      <td>0.992699</td>\n",
       "      <td>1</td>\n",
       "      <td>1</td>\n",
       "    </tr>\n",
       "    <tr>\n",
       "      <th>120</th>\n",
       "      <td>0.007796</td>\n",
       "      <td>0.992204</td>\n",
       "      <td>1</td>\n",
       "      <td>1</td>\n",
       "    </tr>\n",
       "    <tr>\n",
       "      <th>30</th>\n",
       "      <td>0.008449</td>\n",
       "      <td>0.991551</td>\n",
       "      <td>1</td>\n",
       "      <td>1</td>\n",
       "    </tr>\n",
       "    <tr>\n",
       "      <th>125</th>\n",
       "      <td>0.010026</td>\n",
       "      <td>0.989974</td>\n",
       "      <td>1</td>\n",
       "      <td>1</td>\n",
       "    </tr>\n",
       "    <tr>\n",
       "      <th>65</th>\n",
       "      <td>0.014385</td>\n",
       "      <td>0.985615</td>\n",
       "      <td>1</td>\n",
       "      <td>1</td>\n",
       "    </tr>\n",
       "    <tr>\n",
       "      <th>...</th>\n",
       "      <td>...</td>\n",
       "      <td>...</td>\n",
       "      <td>...</td>\n",
       "      <td>...</td>\n",
       "    </tr>\n",
       "    <tr>\n",
       "      <th>161</th>\n",
       "      <td>0.966487</td>\n",
       "      <td>0.033513</td>\n",
       "      <td>0</td>\n",
       "      <td>0</td>\n",
       "    </tr>\n",
       "    <tr>\n",
       "      <th>20</th>\n",
       "      <td>0.967862</td>\n",
       "      <td>0.032138</td>\n",
       "      <td>0</td>\n",
       "      <td>1</td>\n",
       "    </tr>\n",
       "    <tr>\n",
       "      <th>195</th>\n",
       "      <td>0.971127</td>\n",
       "      <td>0.028873</td>\n",
       "      <td>0</td>\n",
       "      <td>0</td>\n",
       "    </tr>\n",
       "    <tr>\n",
       "      <th>81</th>\n",
       "      <td>0.972906</td>\n",
       "      <td>0.027094</td>\n",
       "      <td>0</td>\n",
       "      <td>1</td>\n",
       "    </tr>\n",
       "    <tr>\n",
       "      <th>35</th>\n",
       "      <td>0.980143</td>\n",
       "      <td>0.019857</td>\n",
       "      <td>0</td>\n",
       "      <td>1</td>\n",
       "    </tr>\n",
       "  </tbody>\n",
       "</table>\n",
       "<p>200 rows × 4 columns</p>\n",
       "</div>"
      ],
      "text/plain": [
       "        noPep    yesPep  pred_class  true_class\n",
       "166  0.007301  0.992699           1           1\n",
       "120  0.007796  0.992204           1           1\n",
       "30   0.008449  0.991551           1           1\n",
       "125  0.010026  0.989974           1           1\n",
       "65   0.014385  0.985615           1           1\n",
       "..        ...       ...         ...         ...\n",
       "161  0.966487  0.033513           0           0\n",
       "20   0.967862  0.032138           0           1\n",
       "195  0.971127  0.028873           0           0\n",
       "81   0.972906  0.027094           0           1\n",
       "35   0.980143  0.019857           0           1\n",
       "\n",
       "[200 rows x 4 columns]"
      ]
     },
     "execution_count": 426,
     "metadata": {},
     "output_type": "execute_result"
    }
   ],
   "source": [
    "sorted_df = prob_df.sort_values(by=['pred_class', 'yesPep'], ascending = False)\n",
    "sorted_df"
   ]
  },
  {
   "cell_type": "code",
   "execution_count": 427,
   "metadata": {},
   "outputs": [
    {
     "data": {
      "text/html": [
       "<div>\n",
       "<style scoped>\n",
       "    .dataframe tbody tr th:only-of-type {\n",
       "        vertical-align: middle;\n",
       "    }\n",
       "\n",
       "    .dataframe tbody tr th {\n",
       "        vertical-align: top;\n",
       "    }\n",
       "\n",
       "    .dataframe thead th {\n",
       "        text-align: right;\n",
       "    }\n",
       "</style>\n",
       "<table border=\"1\" class=\"dataframe\">\n",
       "  <thead>\n",
       "    <tr style=\"text-align: right;\">\n",
       "      <th></th>\n",
       "      <th>cumsum</th>\n",
       "    </tr>\n",
       "  </thead>\n",
       "  <tbody>\n",
       "    <tr>\n",
       "      <th>166</th>\n",
       "      <td>1</td>\n",
       "    </tr>\n",
       "    <tr>\n",
       "      <th>120</th>\n",
       "      <td>2</td>\n",
       "    </tr>\n",
       "    <tr>\n",
       "      <th>30</th>\n",
       "      <td>3</td>\n",
       "    </tr>\n",
       "    <tr>\n",
       "      <th>125</th>\n",
       "      <td>4</td>\n",
       "    </tr>\n",
       "    <tr>\n",
       "      <th>65</th>\n",
       "      <td>5</td>\n",
       "    </tr>\n",
       "    <tr>\n",
       "      <th>...</th>\n",
       "      <td>...</td>\n",
       "    </tr>\n",
       "    <tr>\n",
       "      <th>77</th>\n",
       "      <td>73</td>\n",
       "    </tr>\n",
       "    <tr>\n",
       "      <th>147</th>\n",
       "      <td>74</td>\n",
       "    </tr>\n",
       "    <tr>\n",
       "      <th>168</th>\n",
       "      <td>75</td>\n",
       "    </tr>\n",
       "    <tr>\n",
       "      <th>64</th>\n",
       "      <td>76</td>\n",
       "    </tr>\n",
       "    <tr>\n",
       "      <th>58</th>\n",
       "      <td>77</td>\n",
       "    </tr>\n",
       "  </tbody>\n",
       "</table>\n",
       "<p>77 rows × 1 columns</p>\n",
       "</div>"
      ],
      "text/plain": [
       "     cumsum\n",
       "166       1\n",
       "120       2\n",
       "30        3\n",
       "125       4\n",
       "65        5\n",
       "..      ...\n",
       "77       73\n",
       "147      74\n",
       "168      75\n",
       "64       76\n",
       "58       77\n",
       "\n",
       "[77 rows x 1 columns]"
      ]
     },
     "execution_count": 427,
     "metadata": {},
     "output_type": "execute_result"
    }
   ],
   "source": [
    "sum_df = sorted_df[np.logical_and(sorted_df['pred_class'] == 1, sorted_df['true_class'] == 1)]['pred_class'].cumsum()\n",
    "sum_df = pd.DataFrame(sum_df)\n",
    "sum_df = sum_df.rename(columns={\"pred_class\": \"cumsum\"})\n",
    "sum_df\n"
   ]
  },
  {
   "cell_type": "code",
   "execution_count": 428,
   "metadata": {},
   "outputs": [],
   "source": [
    "sorted_df = sorted_df.join(sum_df)"
   ]
  },
  {
   "cell_type": "code",
   "execution_count": null,
   "metadata": {},
   "outputs": [],
   "source": []
  },
  {
   "cell_type": "code",
   "execution_count": null,
   "metadata": {},
   "outputs": [],
   "source": []
  },
  {
   "cell_type": "code",
   "execution_count": 429,
   "metadata": {},
   "outputs": [],
   "source": [
    "last_val = 0\n",
    "ret_arr = []\n",
    "for val in sorted_df['cumsum'].values:\n",
    "    if pd.isna(val):\n",
    "        ret_arr.append(last_val)\n",
    "    else:\n",
    "        ret_arr.append(val)\n",
    "        last_val = val\n",
    "sorted_df['cumsum'] = ret_arr"
   ]
  },
  {
   "cell_type": "code",
   "execution_count": 430,
   "metadata": {},
   "outputs": [
    {
     "data": {
      "text/plain": [
       "166     1\n",
       "120     2\n",
       "30      3\n",
       "125     4\n",
       "65      5\n",
       "       ..\n",
       "161    77\n",
       "20     77\n",
       "195    77\n",
       "81     77\n",
       "35     77\n",
       "Name: cumsum, Length: 200, dtype: int64"
      ]
     },
     "execution_count": 430,
     "metadata": {},
     "output_type": "execute_result"
    }
   ],
   "source": [
    "sorted_df['cumsum'].astype(np.int64)"
   ]
  },
  {
   "cell_type": "code",
   "execution_count": 431,
   "metadata": {},
   "outputs": [],
   "source": [
    "# We're now"
   ]
  },
  {
   "cell_type": "code",
   "execution_count": 432,
   "metadata": {},
   "outputs": [],
   "source": [
    "sorted_df['true_cumsum'] = prob_df['true_class'].cumsum().values"
   ]
  },
  {
   "cell_type": "code",
   "execution_count": 433,
   "metadata": {},
   "outputs": [],
   "source": [
    "sorted_df['letters_sent'] = 1\n",
    "sorted_df['letters_sent'] = sorted_df['letters_sent'].cumsum().values"
   ]
  },
  {
   "cell_type": "code",
   "execution_count": 434,
   "metadata": {},
   "outputs": [],
   "source": [
    "# Add hues:\n",
    "\n",
    "sorted_df['ML_model'] = \"\"\n",
    "sorted_df['Random'] = 3"
   ]
  },
  {
   "cell_type": "code",
   "execution_count": 435,
   "metadata": {},
   "outputs": [
    {
     "data": {
      "text/plain": [
       "<AxesSubplot:xlabel='Positive Responses', ylabel='Letters Sent'>"
      ]
     },
     "execution_count": 435,
     "metadata": {},
     "output_type": "execute_result"
    },
    {
     "data": {
      "image/png": "[encoded data removed]",
      "text/plain": [
       "<Figure size 418.125x360 with 1 Axes>"
      ]
     },
     "metadata": {
      "needs_background": "light"
     },
     "output_type": "display_data"
    }
   ],
   "source": [
    "p = sns.relplot(\n",
    "    data=sorted_df[sorted_df['letters_sent'] < 175],\n",
    "    x='letters_sent', y=\"cumsum\", \n",
    "    kind = 'line',palette= \"Set2\", hue = \"ML_model\"\n",
    ")\n",
    "(p.set_axis_labels(\"Positive Responses\", \"Letters Sent\")\n",
    "  .set_titles(\"ML Model vs. Random for Letter Sending\")\n",
    "  .tight_layout(w_pad=0))\n",
    "\n",
    "sns.lineplot(x=\"letters_sent\", y=\"true_cumsum\",\n",
    "             data=sorted_df[sorted_df['letters_sent'] < 175], legend = False)"
   ]
  },
  {
   "cell_type": "code",
   "execution_count": 436,
   "metadata": {},
   "outputs": [
    {
     "data": {
      "text/plain": [
       "<AxesSubplot:xlabel='Positive Responses', ylabel='Letters Sent'>"
      ]
     },
     "execution_count": 436,
     "metadata": {},
     "output_type": "execute_result"
    },
    {
     "data": {
      "image/png": "[encoded data removed]",
      "text/plain": [
       "<Figure size 418.125x360 with 1 Axes>"
      ]
     },
     "metadata": {
      "needs_background": "light"
     },
     "output_type": "display_data"
    }
   ],
   "source": [
    "p = sns.relplot(\n",
    "    data=sorted_df[sorted_df['letters_sent'] < 175],\n",
    "    x='letters_sent', y=\"cumsum\", \n",
    "    kind = 'line',palette= \"Set2\", hue = \"ML_model\"\n",
    ")\n",
    "(p.map(plt.axhline, y=63, color=\".2\", dashes=(5, 2), zorder=0)\n",
    "    .map(plt.vlines, x=[75,150], ymin = 0, ymax = 63, color=\".2\")\n",
    "    .set_axis_labels(\"Positive Responses\", \"Letters Sent\")\n",
    "    .set_titles(\"ML Model vs. Random for Letter Sending\")\n",
    ")\n",
    "sns.lineplot(x=\"letters_sent\", y=\"true_cumsum\",\n",
    "             data=sorted_df[sorted_df['letters_sent'] < 175], legend = False)"
   ]
  },
  {
   "cell_type": "markdown",
   "metadata": {},
   "source": [
    "## What Do we See?\n",
    "\n",
    "We can get roughly equal performance by sending half of the letters! While sending randomly to everyone will eventually result in more total yeses, you have to at least double the number of letters sent before seeing additional returns. "
   ]
  },
  {
   "cell_type": "markdown",
   "metadata": {},
   "source": [
    "### Cost-benefit analysis"
   ]
  },
  {
   "cell_type": "markdown",
   "metadata": {},
   "source": [
    "Just showing the lift chart might be not enough to persuade bank to apply your classifier. We need to estimate potential revenue.\n",
    "\n",
    "How to choose the optimal number of letters to send? This depends on the:\n",
    "- Cost of each mail: for example, let it be 4\n",
    "- Benefit from each accepted PEP: let it be 15\n",
    "\n",
    "These unrealistic numbers were chosen because of the very small size of the validation dataset – to demonstrate the concept of maximum profit. In real life, the cost of mailing is several cents, and the benefit is hundreds and thousands dollars, but the real datasets of mailings contain millions of records.\n",
    "\n",
    "Then for each row in the sorted table:\n",
    "- We multiply each count of total sent by 4 - the cost of sending\n",
    "- We multiply each positive count by 15 - expected benefit (not everything that we predicted as positive was actually positive, some of our predictions were wrong).\n",
    "- We subtract the cost from the benefit. \n",
    "This produces an expected revenue for a given number of letters sent.\n",
    "\n",
    "In my results sending about 71-73 letters gave the maximum profit of ~ 700 dollars. This profit cannot be achieved by random mailing, this is the profit to our company that we created using machine learning. BTW, what would be the total profit if we sent just 73 letters from the random dataset?\n",
    "\n",
    "__What are your results? Did you manage to generate more profit?__ Briefly discuss your results and what did you learn from this project.\n"
   ]
  },
  {
   "cell_type": "code",
   "execution_count": 442,
   "metadata": {},
   "outputs": [],
   "source": [
    "cost = 4\n",
    "ben = 15\n",
    "\n",
    "sorted_df['cost'] = sorted_df['letters_sent']*cost\n",
    "sorted_df['return'] = sorted_df['cumsum']*ben\n",
    "sorted_df['random_return'] = sorted_df['true_cumsum']*ben\n",
    "sorted_df['profit'] = sorted_df['return'] - sorted_df['cost']\n",
    "sorted_df['random_profit'] = sorted_df['random_return'] - sorted_df['cost']"
   ]
  },
  {
   "cell_type": "code",
   "execution_count": 443,
   "metadata": {},
   "outputs": [
    {
     "data": {
      "text/plain": [
       "309"
      ]
     },
     "execution_count": 443,
     "metadata": {},
     "output_type": "execute_result"
    }
   ],
   "source": [
    "sorted_df['random_profit'][73] "
   ]
  },
  {
   "cell_type": "code",
   "execution_count": 447,
   "metadata": {
    "scrolled": true
   },
   "outputs": [
    {
     "data": {
      "text/plain": [
       "795.0"
      ]
     },
     "execution_count": 447,
     "metadata": {},
     "output_type": "execute_result"
    }
   ],
   "source": [
    "max_v = np.max(sorted_df['profit']) \n",
    "max_v"
   ]
  },
  {
   "cell_type": "code",
   "execution_count": 448,
   "metadata": {},
   "outputs": [
    {
     "data": {
      "text/html": [
       "<div>\n",
       "<style scoped>\n",
       "    .dataframe tbody tr th:only-of-type {\n",
       "        vertical-align: middle;\n",
       "    }\n",
       "\n",
       "    .dataframe tbody tr th {\n",
       "        vertical-align: top;\n",
       "    }\n",
       "\n",
       "    .dataframe thead th {\n",
       "        text-align: right;\n",
       "    }\n",
       "</style>\n",
       "<table border=\"1\" class=\"dataframe\">\n",
       "  <thead>\n",
       "    <tr style=\"text-align: right;\">\n",
       "      <th></th>\n",
       "      <th>noPep</th>\n",
       "      <th>yesPep</th>\n",
       "      <th>pred_class</th>\n",
       "      <th>true_class</th>\n",
       "      <th>cumsum</th>\n",
       "      <th>true_cumsum</th>\n",
       "      <th>letters_sent</th>\n",
       "      <th>ML_model</th>\n",
       "      <th>Random</th>\n",
       "      <th>cost</th>\n",
       "      <th>return</th>\n",
       "      <th>random_return</th>\n",
       "      <th>profit</th>\n",
       "      <th>random_profit</th>\n",
       "    </tr>\n",
       "  </thead>\n",
       "  <tbody>\n",
       "    <tr>\n",
       "      <th>58</th>\n",
       "      <td>0.447341</td>\n",
       "      <td>0.552659</td>\n",
       "      <td>1</td>\n",
       "      <td>1</td>\n",
       "      <td>77.0</td>\n",
       "      <td>44</td>\n",
       "      <td>90</td>\n",
       "      <td></td>\n",
       "      <td>3</td>\n",
       "      <td>360</td>\n",
       "      <td>1155.0</td>\n",
       "      <td>660</td>\n",
       "      <td>795.0</td>\n",
       "      <td>300</td>\n",
       "    </tr>\n",
       "  </tbody>\n",
       "</table>\n",
       "</div>"
      ],
      "text/plain": [
       "       noPep    yesPep  pred_class  true_class  cumsum  true_cumsum  \\\n",
       "58  0.447341  0.552659           1           1    77.0           44   \n",
       "\n",
       "    letters_sent ML_model  Random  cost  return  random_return  profit  \\\n",
       "58            90                3   360  1155.0            660   795.0   \n",
       "\n",
       "    random_profit  \n",
       "58            300  "
      ]
     },
     "execution_count": 448,
     "metadata": {},
     "output_type": "execute_result"
    }
   ],
   "source": [
    "sorted_df[sorted_df['profit'] == max_v]"
   ]
  },
  {
   "cell_type": "code",
   "execution_count": 449,
   "metadata": {},
   "outputs": [
    {
     "data": {
      "text/plain": [
       "300"
      ]
     },
     "execution_count": 449,
     "metadata": {},
     "output_type": "execute_result"
    }
   ],
   "source": [
    "sorted_df['random_profit'][58] "
   ]
  },
  {
   "cell_type": "markdown",
   "metadata": {},
   "source": [
    "We reach our maximum profit at sending just 58 letters in total, but we generate a total of 795$ in profit, which is about double the amount of profit as sending letters randomly--and far more than random every generates.\n",
    "\n",
    "(Sending 73 letters randomly has a profit of 309$). "
   ]
  },
  {
   "cell_type": "markdown",
   "metadata": {},
   "source": [
    "So, despite haveing a model that predicted slightly less correctly than 89.5, we still made more than 700$! A possible explanation for this could simply be the random sample. , but it could also be that there's an underlying section of the population that my model consistently gets correct, but once that population is selected, my model is worse overall. In a poor attempt to illustrate this idea, the plot below is supposed to be showing a hypothetical \"correct rate\", where one model falls off quickly, but is more accurate for certain observations. If we collect more money before they intersect, then it does not ne"
   ]
  },
  {
   "cell_type": "code",
   "execution_count": 458,
   "metadata": {},
   "outputs": [
    {
     "data": {
      "image/png": "[encoded data removed]",
      "text/plain": [
       "<Figure size 432x288 with 1 Axes>"
      ]
     },
     "metadata": {
      "needs_background": "light"
     },
     "output_type": "display_data"
    }
   ],
   "source": [
    "inter = np.arange(0.0, 1.0, 0.01)\n",
    "ex = 1 + np.exp(10*(inter-np.divide(4,6)))\n",
    "pl = np.divide(1, ex)\n",
    "\n",
    "fig, ax = plt.subplots()\n",
    "ax.plot(inter, pl)\n",
    "ax.grid()\n",
    "ax.hlines(y = 0.8, xmin = 0, xmax = 1)\n",
    "plt.show()"
   ]
  },
  {
   "cell_type": "markdown",
   "metadata": {},
   "source": [
    "Copyright &copy; 2022 Marina Barsky."
   ]
  }
 ],
 "metadata": {
  "kernelspec": {
   "display_name": "Python 3 (ipykernel)",
   "language": "python",
   "name": "python3"
  },
  "language_info": {
   "codemirror_mode": {
    "name": "ipython",
    "version": 3
   },
   "file_extension": ".py",
   "mimetype": "text/x-python",
   "name": "python",
   "nbconvert_exporter": "python",
   "pygments_lexer": "ipython3",
   "version": "3.9.13"
  }
 },
 "nbformat": 4,
 "nbformat_minor": 4
}
